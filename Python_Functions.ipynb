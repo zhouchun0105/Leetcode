{
  "nbformat": 4,
  "nbformat_minor": 0,
  "metadata": {
    "colab": {
      "name": "Python Functions.ipynb",
      "provenance": [],
      "authorship_tag": "ABX9TyN4YSsqzDDKnW9rtjUMNBhX",
      "include_colab_link": true
    },
    "kernelspec": {
      "name": "python3",
      "display_name": "Python 3"
    },
    "language_info": {
      "name": "python"
    }
  },
  "cells": [
    {
      "cell_type": "markdown",
      "metadata": {
        "id": "view-in-github",
        "colab_type": "text"
      },
      "source": [
        "<a href=\"https://colab.research.google.com/github/zhouchun0105/Leetcode/blob/main/Python_Functions.ipynb\" target=\"_parent\"><img src=\"https://colab.research.google.com/assets/colab-badge.svg\" alt=\"Open In Colab\"/></a>"
      ]
    },
    {
      "cell_type": "markdown",
      "source": [
        "# sorted(l)"
      ],
      "metadata": {
        "id": "t6GQWRtzr0px"
      }
    },
    {
      "cell_type": "code",
      "execution_count": 1,
      "metadata": {
        "id": "oSU7im04rwY0"
      },
      "outputs": [],
      "source": [
        "l = [3,2,5,7,13,45,34]"
      ]
    },
    {
      "cell_type": "code",
      "source": [
        "print(sorted(l))"
      ],
      "metadata": {
        "colab": {
          "base_uri": "https://localhost:8080/"
        },
        "id": "1Evfumzdr9cB",
        "outputId": "1f4e4fbe-75d9-4d2a-f106-dc147d19d9fe"
      },
      "execution_count": 2,
      "outputs": [
        {
          "output_type": "stream",
          "name": "stdout",
          "text": [
            "[2, 3, 5, 7, 13, 34, 45]\n"
          ]
        }
      ]
    },
    {
      "cell_type": "markdown",
      "source": [
        "# Multiple assignments"
      ],
      "metadata": {
        "id": "y1_9nsyxsHRb"
      }
    },
    {
      "cell_type": "code",
      "source": [
        "x,y,z = 3,2,1"
      ],
      "metadata": {
        "id": "bS0r8YfKsI2F"
      },
      "execution_count": 3,
      "outputs": []
    },
    {
      "cell_type": "code",
      "source": [
        "print(x,y,z)"
      ],
      "metadata": {
        "colab": {
          "base_uri": "https://localhost:8080/"
        },
        "id": "FL1Epj8DsLDO",
        "outputId": "4d707ecf-e9ad-4c01-8a0f-ae8eb186823b"
      },
      "execution_count": 4,
      "outputs": [
        {
          "output_type": "stream",
          "name": "stdout",
          "text": [
            "3 2 1\n"
          ]
        }
      ]
    }
  ]
}