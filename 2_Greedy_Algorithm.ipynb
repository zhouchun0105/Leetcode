{
  "nbformat": 4,
  "nbformat_minor": 0,
  "metadata": {
    "colab": {
      "name": "2. Greedy Algorithm.ipynb",
      "provenance": [],
      "authorship_tag": "ABX9TyNu4vFzviMAlz4PFfaA0Mg5",
      "include_colab_link": true
    },
    "kernelspec": {
      "name": "python3",
      "display_name": "Python 3"
    },
    "language_info": {
      "name": "python"
    }
  },
  "cells": [
    {
      "cell_type": "markdown",
      "metadata": {
        "id": "view-in-github",
        "colab_type": "text"
      },
      "source": [
        "<a href=\"https://colab.research.google.com/github/zhouchun0105/Leetcode/blob/main/2_Greedy_Algorithm.ipynb\" target=\"_parent\"><img src=\"https://colab.research.google.com/assets/colab-badge.svg\" alt=\"Open In Colab\"/></a>"
      ]
    },
    {
      "cell_type": "markdown",
      "source": [
        "# Greedy Algorithm"
      ],
      "metadata": {
        "id": "bg8shPkhlsCf"
      }
    },
    {
      "cell_type": "markdown",
      "source": [
        "The algorithm makes the optimal choice at each step as it attemps to find the overall optimal way to solve the entire problem. Greedy algorithm takes all of the data in a particular problem, and then set a rule for which elements to add to the solution at each step of the algorithm. The solution that the algorithm builds is the sum of all of the choices.\n",
        "\n",
        "* Used in optimization problems\n",
        "* Application in Huffman encoding: find the shortest encoding for most frequent data\n",
        "* Application in Dijkstra's algorithm: find the shortest path through a graph"
      ],
      "metadata": {
        "id": "3xvVV9SzlvVr"
      }
    },
    {
      "cell_type": "markdown",
      "source": [
        "If both of the properties below are true, a greedy algorithm can be used to solve the problem.\n",
        "* **Greedy choice property**: A global (overall) optimal solution can be reached by choosing the optimal choice at each step. \n",
        "* **Optimal substructure**: A problem has an optimal substructure if an optimal solution to the entire problem contains the optimal solutions to the sub-problems."
      ],
      "metadata": {
        "id": "a1BjogVppuuW"
      }
    },
    {
      "cell_type": "code",
      "execution_count": null,
      "metadata": {
        "id": "LuXnbrIelFsb"
      },
      "outputs": [],
      "source": [
        ""
      ]
    },
    {
      "cell_type": "markdown",
      "source": [
        "# References"
      ],
      "metadata": {
        "id": "NZhQCQtYlj1M"
      }
    },
    {
      "cell_type": "markdown",
      "source": [
        "* Greedy Algorithms. https://brilliant.org/wiki/greedy-algorithm/"
      ],
      "metadata": {
        "id": "-7Xv98LbllQU"
      }
    }
  ]
}